{
 "cells": [
  {
   "cell_type": "code",
   "execution_count": null,
   "id": "096afb3a-ae79-4c99-b57e-b449a4744395",
   "metadata": {},
   "outputs": [],
   "source": [
    "#AI SUbfields"
   ]
  },
  {
   "cell_type": "code",
   "execution_count": 18,
   "id": "1c0acd6e-85dd-4e2e-8aca-79f74d39fd94",
   "metadata": {},
   "outputs": [
    {
     "name": "stdout",
     "output_type": "stream",
     "text": [
      "Sub Fields in AI are:\n",
      "Machine Learning\n",
      "Neural Neteworks\n",
      "Robatics\n",
      "Speech Processing\n",
      "Natural Language Processing\n"
     ]
    }
   ],
   "source": [
    "class aisubfields():\n",
    "  def subfieldinAI():\n",
    "      aiLists =['Machine Learning','Neural Neteworks', 'Robatics', 'Speech Processing','Natural Language Processing']\n",
    "      print('Sub Fields in AI are:')\n",
    "      for item in aiLists:\n",
    "          print(item)\n",
    "\n",
    "aisubfields.subfieldinAI()"
   ]
  },
  {
   "cell_type": "code",
   "execution_count": null,
   "id": "34f9a70c-9be9-40ae-9e26-4d8688de04bb",
   "metadata": {},
   "outputs": [],
   "source": [
    "#OddEven"
   ]
  },
  {
   "cell_type": "code",
   "execution_count": 3,
   "id": "4bdf9aae-e397-4574-88a2-d0d6c99bb893",
   "metadata": {},
   "outputs": [
    {
     "name": "stdin",
     "output_type": "stream",
     "text": [
      "Enter the number 52452 \n"
     ]
    },
    {
     "name": "stdout",
     "output_type": "stream",
     "text": [
      "52452 is Even number\n"
     ]
    }
   ],
   "source": [
    "def oddEven():\n",
    "    num = int(input(\"Enter the number\")) \n",
    "    if(num%2==0):\n",
    "        print(num,\"is Even number\")"
   ]
  },
  {
   "cell_type": "code",
   "execution_count": null,
   "id": "7eec645b-8944-4df6-816b-86d7f0eac336",
   "metadata": {},
   "outputs": [],
   "source": [
    "#Marriage ELigible"
   ]
  },
  {
   "cell_type": "code",
   "execution_count": 8,
   "id": "e4e36449-3c41-4026-a11a-df85f1ca3bcb",
   "metadata": {},
   "outputs": [
    {
     "name": "stdin",
     "output_type": "stream",
     "text": [
      "Your Gender Male\n",
      "Your age 23\n"
     ]
    },
    {
     "name": "stdout",
     "output_type": "stream",
     "text": [
      "Eligible\n"
     ]
    }
   ],
   "source": [
    "def marriageEligible():\n",
    "    gender = input(\"Your Gender\")\n",
    "    age = int(input(\"Your age\")) \n",
    "    if(gender=='Male'):\n",
    "        if(age<=21):\n",
    "            print('Not eligible')\n",
    "            message = \"Not eligible\"\n",
    "        else:\n",
    "            print('Eligible')\n",
    "            message = \"Eligible\"\n",
    "    elif(gender=='FeMale'):\n",
    "        if(age<=18):\n",
    "            print('Not eligible')\n",
    "            message = \"Not eligible\"\n",
    "        else:\n",
    "            print('Eligible')\n",
    "            message = \"Eligible\"\n",
    "    else:\n",
    "      print('option is wrong')\n",
    "      message('option is wrong')\n",
    "    return message\n",
    "# Call the function\n",
    "message = marriageEligible()"
   ]
  },
  {
   "cell_type": "code",
   "execution_count": null,
   "id": "03584324-f26b-43cd-ad8d-9c0d9d40cda1",
   "metadata": {},
   "outputs": [],
   "source": [
    "#Find Percentage"
   ]
  },
  {
   "cell_type": "code",
   "execution_count": 12,
   "id": "4f5e0b36-2f51-4d60-8a34-1073604a1bc4",
   "metadata": {},
   "outputs": [
    {
     "name": "stdin",
     "output_type": "stream",
     "text": [
      "Subject1 98\n",
      "Subject2 87\n",
      "Subject3 95\n",
      "Subject4 95\n",
      "Subject5 93\n"
     ]
    },
    {
     "name": "stdout",
     "output_type": "stream",
     "text": [
      "Total: 468\n",
      "Percentage: 93.6\n"
     ]
    }
   ],
   "source": [
    "def percentage():\n",
    "    subject1 = int(input(\"Subject1\"))\n",
    "    subject2 = int(input(\"Subject2\"))\n",
    "    subject3 = int(input(\"Subject3\"))\n",
    "    subject4 = int(input(\"Subject4\"))\n",
    "    subject5 = int(input(\"Subject5\"))\n",
    "    total = subject1+subject2+subject3+subject4+subject5\n",
    "    print('Total:', total)\n",
    "    percentage = total/5;\n",
    "    print('Percentage:',percentage)\n",
    "percentage()"
   ]
  },
  {
   "cell_type": "code",
   "execution_count": null,
   "id": "447f674b-1d40-474e-b47b-a97c58aabc24",
   "metadata": {},
   "outputs": [],
   "source": [
    "#Find Formula result"
   ]
  },
  {
   "cell_type": "code",
   "execution_count": 13,
   "id": "0732331a-1942-4f73-9069-f994bf4c981a",
   "metadata": {},
   "outputs": [
    {
     "name": "stdin",
     "output_type": "stream",
     "text": [
      "Height 32\n",
      "Breadth 34\n"
     ]
    },
    {
     "name": "stdout",
     "output_type": "stream",
     "text": [
      "Area of Triangle 544.0\n"
     ]
    },
    {
     "name": "stdin",
     "output_type": "stream",
     "text": [
      "Height1 2\n",
      "Height1 2\n",
      "Breadth2 4\n"
     ]
    },
    {
     "name": "stdout",
     "output_type": "stream",
     "text": [
      "Perimeter of Triangle: 8\n"
     ]
    }
   ],
   "source": [
    "def triangle():\n",
    "    height = int(input(\"Height\"))\n",
    "    breadth = int(input(\"Breadth\"))\n",
    "    areaformula = (height * breadth)/2\n",
    "    print('Area of Triangle',areaformula)\n",
    "    height1 = int(input(\"Height1\"))\n",
    "    height2 = int(input(\"Height1\"))\n",
    "    breadth2 = int(input(\"Breadth2\"))\n",
    "    perimiter = height1+height2+breadth2\n",
    "    print('Perimeter of Triangle:',perimiter)\n",
    "triangle()"
   ]
  },
  {
   "cell_type": "code",
   "execution_count": null,
   "id": "9c4d76e0-8587-4e6e-9960-813f519cfdee",
   "metadata": {},
   "outputs": [],
   "source": []
  }
 ],
 "metadata": {
  "kernelspec": {
   "display_name": "Python 3 (ipykernel)",
   "language": "python",
   "name": "python3"
  },
  "language_info": {
   "codemirror_mode": {
    "name": "ipython",
    "version": 3
   },
   "file_extension": ".py",
   "mimetype": "text/x-python",
   "name": "python",
   "nbconvert_exporter": "python",
   "pygments_lexer": "ipython3",
   "version": "3.12.4"
  }
 },
 "nbformat": 4,
 "nbformat_minor": 5
}
