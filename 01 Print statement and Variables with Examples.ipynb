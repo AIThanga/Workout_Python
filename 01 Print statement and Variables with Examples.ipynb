{
 "cells": [
  {
   "cell_type": "code",
   "execution_count": null,
   "id": "404170a4-0637-41b5-8f72-de29b5133d5e",
   "metadata": {},
   "outputs": [],
   "source": [
    "#Print Statement"
   ]
  },
  {
   "cell_type": "code",
   "execution_count": 2,
   "id": "90a67f51-6c42-48b1-8671-086be87490b0",
   "metadata": {},
   "outputs": [
    {
     "name": "stdout",
     "output_type": "stream",
     "text": [
      "132324^^%$%$%HGHGHG\n"
     ]
    }
   ],
   "source": [
    "print(\"132324^^%$%$%HGHGHG\")"
   ]
  },
  {
   "cell_type": "code",
   "execution_count": 1,
   "id": "d1b323b7-56d7-4201-9f30-d0f6ac93deea",
   "metadata": {},
   "outputs": [
    {
     "name": "stdout",
     "output_type": "stream",
     "text": [
      "Welcome\n"
     ]
    }
   ],
   "source": [
    "print(\"Welcome\")"
   ]
  },
  {
   "cell_type": "code",
   "execution_count": 3,
   "id": "065eec30-7002-4bab-9cbf-300874a1ad2a",
   "metadata": {},
   "outputs": [
    {
     "ename": "NameError",
     "evalue": "name 'Print' is not defined",
     "output_type": "error",
     "traceback": [
      "\u001b[1;31m---------------------------------------------------------------------------\u001b[0m",
      "\u001b[1;31mNameError\u001b[0m                                 Traceback (most recent call last)",
      "Cell \u001b[1;32mIn[3], line 1\u001b[0m\n\u001b[1;32m----> 1\u001b[0m Print(\u001b[38;5;124m\"\u001b[39m\u001b[38;5;124mHello\u001b[39m\u001b[38;5;124m\"\u001b[39m)\n",
      "\u001b[1;31mNameError\u001b[0m: name 'Print' is not defined"
     ]
    }
   ],
   "source": [
    "Print(\"Hello\")"
   ]
  },
  {
   "cell_type": "code",
   "execution_count": null,
   "id": "d847e37b-2493-4ed7-839e-46a6196178c6",
   "metadata": {},
   "outputs": [],
   "source": [
    "#Variable and Assignment Operator"
   ]
  },
  {
   "cell_type": "code",
   "execution_count": 1,
   "id": "0d33e9a9-7367-4d8f-9849-b44d5226beef",
   "metadata": {},
   "outputs": [
    {
     "name": "stdout",
     "output_type": "stream",
     "text": [
      "100\n"
     ]
    }
   ],
   "source": [
    "num1 = 60\n",
    "num2 = 40\n",
    "add = num1 + num2\n",
    "print(add)"
   ]
  },
  {
   "cell_type": "code",
   "execution_count": 2,
   "id": "933ad1db-0d5a-4c01-9d81-f3d24b3fe261",
   "metadata": {},
   "outputs": [
    {
     "name": "stdout",
     "output_type": "stream",
     "text": [
      "100 20 2400 1.5\n"
     ]
    }
   ],
   "source": [
    "num1 = 60\n",
    "num2 = 40\n",
    "add = num1 + num2\n",
    "sub = num1 - num2\n",
    "mul = num1 * num2\n",
    "div = num1 / num2\n",
    "print(add, sub, mul, div)"
   ]
  },
  {
   "cell_type": "code",
   "execution_count": 4,
   "id": "3fd6b90c-9bcf-4472-a72e-d594f3d80e5f",
   "metadata": {},
   "outputs": [
    {
     "name": "stdout",
     "output_type": "stream",
     "text": [
      "Thangalakshmi\n"
     ]
    }
   ],
   "source": [
    "first_name =\"Thangalakshmi\"\n",
    "print(first_name)"
   ]
  },
  {
   "cell_type": "code",
   "execution_count": 9,
   "id": "968d1649-0ac1-4628-9056-4c8aa4deda09",
   "metadata": {},
   "outputs": [
    {
     "name": "stdout",
     "output_type": "stream",
     "text": [
      "The addition of two numbers:\n",
      "Number 1 is: 60\n",
      "Number 2 is: 40\n",
      "Answer is: 100\n"
     ]
    }
   ],
   "source": [
    "num1 = 60\n",
    "num2 = 40\n",
    "add = num1 + num2\n",
    "print(\"The addition of two numbers:\")\n",
    "print(\"Number 1 is:\", num1)\n",
    "print(\"Number 2 is:\", num2)\n",
    "print(\"Answer is:\", add)"
   ]
  },
  {
   "cell_type": "code",
   "execution_count": null,
   "id": "9b438f93-a238-4190-adce-9f0f676c2e32",
   "metadata": {},
   "outputs": [],
   "source": [
    "#Get string input from user"
   ]
  },
  {
   "cell_type": "code",
   "execution_count": 11,
   "id": "8bdab1c7-990b-43f5-9c29-513c5e68df52",
   "metadata": {},
   "outputs": [
    {
     "name": "stdin",
     "output_type": "stream",
     "text": [
      "Enter your First Name: Thanga\n",
      "Enter your Last Name: Lakshmi\n"
     ]
    },
    {
     "name": "stdout",
     "output_type": "stream",
     "text": [
      "ThangaLakshmi\n"
     ]
    }
   ],
   "source": [
    "firstname = input(\"Enter your First Name:\")\n",
    "lastname = input(\"Enter your Last Name:\");\n",
    "fullname = firstname+lastname\n",
    "print(fullname)"
   ]
  },
  {
   "cell_type": "code",
   "execution_count": null,
   "id": "590bedab-c749-44a9-9cec-d767a5f3f916",
   "metadata": {},
   "outputs": [],
   "source": [
    "#Get int input from user"
   ]
  },
  {
   "cell_type": "code",
   "execution_count": 16,
   "id": "7bd4804e-2708-497e-a38f-59b84d8f7d64",
   "metadata": {},
   "outputs": [
    {
     "name": "stdin",
     "output_type": "stream",
     "text": [
      "Enter your total working days of this month: 30\n",
      "Enter your daily amount of the work: 100\n"
     ]
    },
    {
     "name": "stdout",
     "output_type": "stream",
     "text": [
      "3000\n"
     ]
    }
   ],
   "source": [
    "wokingdays = int(input(\"Enter your total working days of this month:\"))\n",
    "dailyamountofthework = int(input(\"Enter your daily amount of the work:\"))\n",
    "salary = wokingdays * dailyamountofthework\n",
    "print(salary)"
   ]
  },
  {
   "cell_type": "code",
   "execution_count": null,
   "id": "7a5f0415-4194-48ca-b541-632afbe7abf2",
   "metadata": {},
   "outputs": [],
   "source": []
  }
 ],
 "metadata": {
  "kernelspec": {
   "display_name": "Python 3 (ipykernel)",
   "language": "python",
   "name": "python3"
  },
  "language_info": {
   "codemirror_mode": {
    "name": "ipython",
    "version": 3
   },
   "file_extension": ".py",
   "mimetype": "text/x-python",
   "name": "python",
   "nbconvert_exporter": "python",
   "pygments_lexer": "ipython3",
   "version": "3.12.4"
  }
 },
 "nbformat": 4,
 "nbformat_minor": 5
}
