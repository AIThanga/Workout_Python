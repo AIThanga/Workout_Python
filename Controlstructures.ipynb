{
 "cells": [
  {
   "cell_type": "code",
   "execution_count": null,
   "id": "a371e068-7ede-4ad6-88e1-0ab921c902a8",
   "metadata": {},
   "outputs": [],
   "source": [
    "# If    \n",
    "\n",
    "if(cond): \n",
    "    print()"
   ]
  },
  {
   "cell_type": "code",
   "execution_count": 3,
   "id": "b3b3968e-4eb3-4ed6-835a-b3649ba8ad5e",
   "metadata": {},
   "outputs": [
    {
     "name": "stdin",
     "output_type": "stream",
     "text": [
      "Enter your employee age: 18\n"
     ]
    },
    {
     "name": "stdout",
     "output_type": "stream",
     "text": [
      "Employee is Adult\n"
     ]
    }
   ],
   "source": [
    "age = int(input(\"Enter your employee age:\"))\n",
    "if(age==18):\n",
    "    print(\"Employee is Adult\")"
   ]
  },
  {
   "cell_type": "code",
   "execution_count": null,
   "id": "169f20e0-5fc0-413c-955c-4d9afe36ab71",
   "metadata": {},
   "outputs": [],
   "source": [
    "# If Else \n",
    "if(cond): \n",
    "   print()   \n",
    "else:\n",
    "    print()"
   ]
  },
  {
   "cell_type": "code",
   "execution_count": 7,
   "id": "5c9bda8c-f1dc-45b4-958c-9b59b9e8cf58",
   "metadata": {},
   "outputs": [
    {
     "name": "stdin",
     "output_type": "stream",
     "text": [
      "Enter your employee age: 10\n"
     ]
    },
    {
     "name": "stdout",
     "output_type": "stream",
     "text": [
      "Employee is Children\n"
     ]
    }
   ],
   "source": [
    "age = int(input(\"Enter your employee age:\"))\n",
    "if(age<18):\n",
    "    print(\"Employee is Children\")\n",
    "else:\n",
    "    print(\"Employee is Adult\")"
   ]
  },
  {
   "cell_type": "code",
   "execution_count": null,
   "id": "0da8960d-b98e-4a3a-83ce-3dccbdf55fcc",
   "metadata": {},
   "outputs": [],
   "source": [
    "# If Else If(if-elif)\n",
    "if(cond): \n",
    "   print()   \n",
    "elif(cond):\n",
    "    print()\n",
    "elif(cond):\n",
    "    print()   \n",
    "else:\n",
    "    print()"
   ]
  },
  {
   "cell_type": "markdown",
   "id": "595e5fce-89b7-498f-b2ec-60d65229365e",
   "metadata": {},
   "source": [
    "age<18 - children\n",
    "age<35 - adult\n",
    "age<59 - citizen\n",
    "age>59 - seniour citizen"
   ]
  },
  {
   "cell_type": "code",
   "execution_count": 8,
   "id": "b7449fda-72a8-4ef3-8135-764887abf7ea",
   "metadata": {},
   "outputs": [
    {
     "name": "stdin",
     "output_type": "stream",
     "text": [
      "Enter the age: 45\n"
     ]
    },
    {
     "name": "stdout",
     "output_type": "stream",
     "text": [
      "Centizen\n"
     ]
    }
   ],
   "source": [
    "age = int(input(\"Enter the age:\"))\n",
    "if(age<18):\n",
    "    print(\"Children\")\n",
    "elif(age<35):\n",
    "    print(\"Adult\")\n",
    "elif(age<59):\n",
    "    print(\"Centizen\")\n",
    "else:\n",
    "    print(\"Senior Centizen\")\n",
    "    "
   ]
  },
  {
   "cell_type": "code",
   "execution_count": null,
   "id": "b55a91a1-3291-4bb2-b3d1-a884428341ce",
   "metadata": {},
   "outputs": [],
   "source": [
    "#for loop   syntax: for temp in mainvariable"
   ]
  },
  {
   "cell_type": "code",
   "execution_count": 14,
   "id": "acc0ff4d-bdd3-428a-a10a-e4c4149cbb67",
   "metadata": {},
   "outputs": [
    {
     "name": "stdout",
     "output_type": "stream",
     "text": [
      "15 Children\n",
      "25 Adult\n",
      "52 Citizen\n",
      "65 senior citizen\n"
     ]
    }
   ],
   "source": [
    "lists = [15,25,52,65]\n",
    "for age in lists:\n",
    "    if(age<18):\n",
    "        print(age,\"Children\")\n",
    "    elif(age<35):\n",
    "        print(age,\"Adult\")\n",
    "    elif(age<59):\n",
    "        print(age,\"Citizen\")\n",
    "    else:\n",
    "        print(age,\"senior citizen\")"
   ]
  },
  {
   "cell_type": "code",
   "execution_count": null,
   "id": "53c5f69d-d1a5-4fcb-b350-de47cb8a73bc",
   "metadata": {},
   "outputs": [],
   "source": [
    "# Find odd or even"
   ]
  },
  {
   "cell_type": "code",
   "execution_count": 16,
   "id": "7509c926-484d-4800-969a-bd11c6893295",
   "metadata": {},
   "outputs": [
    {
     "name": "stdout",
     "output_type": "stream",
     "text": [
      "3  is Odd\n",
      "10 is Even\n",
      "15  is Odd\n",
      "20 is Even\n"
     ]
    }
   ],
   "source": [
    "numlists = [3,10,15,20]\n",
    "for num in numlists:\n",
    "    if(num%2==0):\n",
    "        print(num,\"is Even\")\n",
    "    else:\n",
    "        print(num,\" is Odd\")"
   ]
  },
  {
   "cell_type": "code",
   "execution_count": null,
   "id": "efbe1548-0502-43ad-b48e-f2d3e7bdf2aa",
   "metadata": {},
   "outputs": [],
   "source": [
    "# Range\n",
    "range(start,end,step)"
   ]
  },
  {
   "cell_type": "code",
   "execution_count": 17,
   "id": "5b9bc99e-2ebc-4fec-a53a-51190b2821f5",
   "metadata": {},
   "outputs": [
    {
     "name": "stdout",
     "output_type": "stream",
     "text": [
      "1\n",
      "2\n",
      "3\n",
      "4\n",
      "5\n",
      "6\n",
      "7\n",
      "8\n",
      "9\n",
      "10\n"
     ]
    }
   ],
   "source": [
    "for num in range(1,11):\n",
    "    print(num)"
   ]
  },
  {
   "cell_type": "code",
   "execution_count": 18,
   "id": "0a340199-7586-47d6-8889-aa942cd4d5f1",
   "metadata": {},
   "outputs": [
    {
     "name": "stdout",
     "output_type": "stream",
     "text": [
      "20\n",
      "22\n",
      "24\n",
      "26\n",
      "28\n"
     ]
    }
   ],
   "source": [
    "for num in range(20,30,2):\n",
    "    print(num)"
   ]
  },
  {
   "cell_type": "code",
   "execution_count": null,
   "id": "5d3608b3-8de1-4420-b7a3-4396c2df4afe",
   "metadata": {},
   "outputs": [],
   "source": []
  }
 ],
 "metadata": {
  "kernelspec": {
   "display_name": "Python 3 (ipykernel)",
   "language": "python",
   "name": "python3"
  },
  "language_info": {
   "codemirror_mode": {
    "name": "ipython",
    "version": 3
   },
   "file_extension": ".py",
   "mimetype": "text/x-python",
   "name": "python",
   "nbconvert_exporter": "python",
   "pygments_lexer": "ipython3",
   "version": "3.12.4"
  }
 },
 "nbformat": 4,
 "nbformat_minor": 5
}
