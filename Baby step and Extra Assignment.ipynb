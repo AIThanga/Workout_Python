{
 "cells": [
  {
   "cell_type": "code",
   "execution_count": null,
   "id": "5238d1b9-d7ee-4a27-9c6c-5bdd56ba775b",
   "metadata": {},
   "outputs": [],
   "source": [
    "#Baby stpes"
   ]
  },
  {
   "cell_type": "code",
   "execution_count": null,
   "id": "a0417f4b-b7e8-4e9a-a36a-bc172eb79577",
   "metadata": {},
   "outputs": [],
   "source": [
    "# Print the sentence"
   ]
  },
  {
   "cell_type": "code",
   "execution_count": 1,
   "id": "0550cf1c-b4f6-4235-a8a3-faedf2947264",
   "metadata": {},
   "outputs": [
    {
     "name": "stdout",
     "output_type": "stream",
     "text": [
      "Welcome to Assignment-1\n"
     ]
    }
   ],
   "source": [
    "print(\"Welcome to Assignment-1\")"
   ]
  },
  {
   "cell_type": "code",
   "execution_count": null,
   "id": "181f73dc-9a21-440d-93c3-d647fdee5cf0",
   "metadata": {},
   "outputs": [],
   "source": [
    "# Add Two numbers"
   ]
  },
  {
   "cell_type": "code",
   "execution_count": 2,
   "id": "d74c7afb-310c-4509-ad88-18f7236ebc51",
   "metadata": {},
   "outputs": [
    {
     "name": "stdin",
     "output_type": "stream",
     "text": [
      "Num1: 10\n",
      "Num2: 30\n"
     ]
    },
    {
     "name": "stdout",
     "output_type": "stream",
     "text": [
      "Add: 40\n"
     ]
    }
   ],
   "source": [
    "Num1 = int(input(\"Num1:\"))\n",
    "Num2 = int(input(\"Num2:\"))\n",
    "add = Num1+Num2\n",
    "print(\"Add:\", add)"
   ]
  },
  {
   "cell_type": "code",
   "execution_count": null,
   "id": "d5065a84-d991-406f-9b8b-707db2fa00f5",
   "metadata": {},
   "outputs": [],
   "source": [
    "# Body Mass Index"
   ]
  },
  {
   "cell_type": "code",
   "execution_count": 5,
   "id": "e19f3e9c-55f5-4ffb-a43e-d6ab9e559f83",
   "metadata": {},
   "outputs": [
    {
     "name": "stdin",
     "output_type": "stream",
     "text": [
      "Enter the BMI Index: 20\n"
     ]
    },
    {
     "name": "stdout",
     "output_type": "stream",
     "text": [
      "Normal Range\n"
     ]
    }
   ],
   "source": [
    "bmi = int(input(\"Enter the BMI Index:\"))\n",
    "if(bmi < 18.5):\n",
    "    print(\"UnderWeight\")\n",
    "elif(bmi < 24.9):\n",
    "    print(\"Normal Range\")\n",
    "elif(bmi < 29.9):\n",
    "    print(\"Overweight\")\n",
    "else:\n",
    "    print(\"Very Overweight\")\n"
   ]
  },
  {
   "cell_type": "code",
   "execution_count": null,
   "id": "6fb3d8cf-7ca6-40fb-9fa3-ac559e96e69e",
   "metadata": {},
   "outputs": [],
   "source": [
    "# Extra Assignment-level-1-python"
   ]
  },
  {
   "cell_type": "code",
   "execution_count": 1,
   "id": "2a20034b-deb5-407e-a85d-9ef33efac824",
   "metadata": {},
   "outputs": [
    {
     "name": "stdout",
     "output_type": "stream",
     "text": [
      "Hope AI\n"
     ]
    }
   ],
   "source": [
    "print(\"Hope AI\")"
   ]
  },
  {
   "cell_type": "code",
   "execution_count": 4,
   "id": "df2db5ef-046b-49fa-a9df-84cf75c7deef",
   "metadata": {},
   "outputs": [
    {
     "name": "stdin",
     "output_type": "stream",
     "text": [
      "Enter your institute name ? : HOPE AI\n"
     ]
    },
    {
     "name": "stdout",
     "output_type": "stream",
     "text": [
      "HOPE AI\n"
     ]
    }
   ],
   "source": [
    "institutename = input(\"Enter your institute name ? :\")\n",
    "print(institutename)                                      "
   ]
  },
  {
   "cell_type": "code",
   "execution_count": 16,
   "id": "f419ed55-e675-48b0-814a-bee9be6aef24",
   "metadata": {},
   "outputs": [
    {
     "name": "stdin",
     "output_type": "stream",
     "text": [
      "Enter your name: Raj\n",
      "Enter your age: 15\n",
      "Enter your school name: Guru school\n",
      "Enter your degree: B.E CSE\n"
     ]
    }
   ],
   "source": [
    "name = input(\"Enter your name:\")\n",
    "age = int(input(\"Enter your age:\"))\n",
    "school = input(\"Enter your school name:\")\n",
    "degree = input(\"Enter your degree:\")           "
   ]
  },
  {
   "cell_type": "code",
   "execution_count": null,
   "id": "8e1269f1-6e92-4213-90fc-92e750ffde74",
   "metadata": {},
   "outputs": [],
   "source": [
    "# Addition"
   ]
  },
  {
   "cell_type": "code",
   "execution_count": 17,
   "id": "7a1ed96f-3c7f-4a46-a671-9176e3a78138",
   "metadata": {},
   "outputs": [
    {
     "name": "stdin",
     "output_type": "stream",
     "text": [
      "a= 43\n",
      "b= 34\n"
     ]
    },
    {
     "name": "stdout",
     "output_type": "stream",
     "text": [
      "add= 77\n"
     ]
    }
   ],
   "source": [
    "a = int(input(\"a=\"))\n",
    "b = int(input(\"b=\")) \n",
    "add = a + b\n",
    "print(\"add=\",add)"
   ]
  },
  {
   "cell_type": "code",
   "execution_count": null,
   "id": "54995c4a-b7aa-460b-a291-3d9e778f3b4b",
   "metadata": {},
   "outputs": [],
   "source": [
    "# Subtraction"
   ]
  },
  {
   "cell_type": "code",
   "execution_count": 18,
   "id": "a29fe09f-11a9-4a47-ace8-9e986ce94f7c",
   "metadata": {},
   "outputs": [
    {
     "name": "stdin",
     "output_type": "stream",
     "text": [
      "a= 43\n",
      "b= 34\n"
     ]
    },
    {
     "name": "stdout",
     "output_type": "stream",
     "text": [
      "Sub= 9\n"
     ]
    }
   ],
   "source": [
    "a = int(input(\"a=\"))\n",
    "b = int(input(\"b=\")) \n",
    "sub = a - b\n",
    "print(\"Sub=\",sub)"
   ]
  },
  {
   "cell_type": "code",
   "execution_count": null,
   "id": "7c26063c-2ded-4e13-b800-8c2f444c7f2a",
   "metadata": {},
   "outputs": [],
   "source": [
    "# Multiplication"
   ]
  },
  {
   "cell_type": "code",
   "execution_count": 19,
   "id": "530a2401-920f-48c3-8bc1-b865ed942c49",
   "metadata": {},
   "outputs": [
    {
     "name": "stdin",
     "output_type": "stream",
     "text": [
      "a= 63\n",
      "b= 97\n"
     ]
    },
    {
     "name": "stdout",
     "output_type": "stream",
     "text": [
      "Mul= 6111\n"
     ]
    }
   ],
   "source": [
    "a = int(input(\"a=\"))\n",
    "b = int(input(\"b=\")) \n",
    "mul = a * b\n",
    "print(\"Mul=\",mul)"
   ]
  },
  {
   "cell_type": "code",
   "execution_count": null,
   "id": "ab9fc3e7-6cd2-4384-a220-9f8f548e0436",
   "metadata": {},
   "outputs": [],
   "source": [
    "# Division"
   ]
  },
  {
   "cell_type": "code",
   "execution_count": 20,
   "id": "1fdafb48-0027-4c04-afb5-d01c580d0edb",
   "metadata": {},
   "outputs": [
    {
     "name": "stdin",
     "output_type": "stream",
     "text": [
      "a= 76\n",
      "b= 31\n"
     ]
    },
    {
     "name": "stdout",
     "output_type": "stream",
     "text": [
      "Float Div= 2.4516129032258065\n"
     ]
    }
   ],
   "source": [
    "a = int(input(\"a=\"))\n",
    "b = int(input(\"b=\")) \n",
    "div = a / b\n",
    "print(\"Float Div=\",div)"
   ]
  },
  {
   "cell_type": "code",
   "execution_count": 22,
   "id": "418579a3-173e-476b-af72-e3899deb2e6c",
   "metadata": {},
   "outputs": [
    {
     "name": "stdin",
     "output_type": "stream",
     "text": [
      "a= 76\n",
      "b= 31\n"
     ]
    },
    {
     "name": "stdout",
     "output_type": "stream",
     "text": [
      "Float Div= 2\n"
     ]
    }
   ],
   "source": [
    "a = int(input(\"a=\"))\n",
    "b = int(input(\"b=\")) \n",
    "div = a / b\n",
    "print(\"Floor Div=\",round(div))"
   ]
  },
  {
   "cell_type": "code",
   "execution_count": 23,
   "id": "2ad1de90-dcaf-42d0-879c-75afa40ae515",
   "metadata": {},
   "outputs": [
    {
     "name": "stdin",
     "output_type": "stream",
     "text": [
      "a= 76\n",
      "b= 31\n"
     ]
    },
    {
     "name": "stdout",
     "output_type": "stream",
     "text": [
      "Modulo= 14\n"
     ]
    }
   ],
   "source": [
    "a = int(input(\"a=\"))\n",
    "b = int(input(\"b=\")) \n",
    "modulo = a % b\n",
    "print(\"Modulo=\",modulo)"
   ]
  },
  {
   "cell_type": "code",
   "execution_count": null,
   "id": "965e469a-c0a1-4d75-baf1-8148fe4cde59",
   "metadata": {},
   "outputs": [],
   "source": [
    "#power"
   ]
  },
  {
   "cell_type": "code",
   "execution_count": 24,
   "id": "6c34cb98-6cf4-4ca3-973d-d6d4c2873057",
   "metadata": {},
   "outputs": [
    {
     "name": "stdin",
     "output_type": "stream",
     "text": [
      "a= 4\n",
      "b= 4\n"
     ]
    },
    {
     "name": "stdout",
     "output_type": "stream",
     "text": [
      "Power: 256\n"
     ]
    }
   ],
   "source": [
    "a = int(input(\"a=\"))\n",
    "b = int(input(\"b=\")) \n",
    "power = pow(a,b)\n",
    "print(\"Power:\",power)"
   ]
  },
  {
   "cell_type": "code",
   "execution_count": null,
   "id": "1fa9a0cf-2173-49b6-8833-1332e1601236",
   "metadata": {},
   "outputs": [],
   "source": [
    "# print 0 to 20 using range"
   ]
  },
  {
   "cell_type": "code",
   "execution_count": 26,
   "id": "9d390dfc-ba00-4186-83a3-0abaf6c6167c",
   "metadata": {},
   "outputs": [
    {
     "name": "stdout",
     "output_type": "stream",
     "text": [
      "0\n",
      "1\n",
      "2\n",
      "3\n",
      "4\n",
      "5\n",
      "6\n",
      "7\n",
      "8\n",
      "9\n",
      "10\n",
      "11\n",
      "12\n",
      "13\n",
      "14\n",
      "15\n",
      "16\n",
      "17\n",
      "18\n",
      "19\n"
     ]
    }
   ],
   "source": [
    "for num in range(0,20):\n",
    "    print(num)"
   ]
  },
  {
   "cell_type": "code",
   "execution_count": null,
   "id": "da428983-fa5f-4885-a1e2-966e7b369355",
   "metadata": {},
   "outputs": [],
   "source": [
    "# print 10 to 20 using range"
   ]
  },
  {
   "cell_type": "code",
   "execution_count": 28,
   "id": "b15cb7cc-2f51-4f00-811e-5d2d4b9ff9d8",
   "metadata": {},
   "outputs": [
    {
     "name": "stdout",
     "output_type": "stream",
     "text": [
      "10 11 12 13 14 15 16 17 18 19 "
     ]
    }
   ],
   "source": [
    "for num in range(10,20):\n",
    "    print(num, end=\" \")"
   ]
  },
  {
   "cell_type": "code",
   "execution_count": null,
   "id": "a33b8e6d-c036-4ebf-84cb-c98397c63ae7",
   "metadata": {},
   "outputs": [],
   "source": [
    "# print number of items in the list using 'len'"
   ]
  },
  {
   "cell_type": "code",
   "execution_count": null,
   "id": "5f9316a8-8de7-4349-a77d-243ef3d12a23",
   "metadata": {},
   "outputs": [],
   "source": [
    "# Print char"
   ]
  },
  {
   "cell_type": "code",
   "execution_count": 5,
   "id": "52a53133-a1ea-421c-a092-d4ed7faa86c7",
   "metadata": {},
   "outputs": [
    {
     "name": "stdout",
     "output_type": "stream",
     "text": [
      "A\n",
      "r\n",
      "t\n",
      "i\n",
      "f\n",
      "i\n",
      "c\n",
      "i\n",
      "a\n",
      "l\n",
      "\n",
      "I\n",
      "n\n",
      "t\n",
      "e\n",
      "l\n",
      "l\n",
      "i\n",
      "g\n",
      "e\n",
      "n\n",
      "c\n",
      "e\n"
     ]
    }
   ],
   "source": [
    "text = \"Artificial Intelligence\"\n",
    "\n",
    "# Split the text into two parts\n",
    "first_part, second_part = text.split()\n",
    "\n",
    "# Print each character on a new line\n",
    "for char in first_part:\n",
    "    print(char)\n",
    "    \n",
    "print()  # Print a blank line between the two parts\n",
    "\n",
    "for char in second_part:\n",
    "    print(char)\n"
   ]
  },
  {
   "cell_type": "code",
   "execution_count": 30,
   "id": "78e88da9-c888-4db9-8c1c-361cc66c23aa",
   "metadata": {},
   "outputs": [
    {
     "name": "stdout",
     "output_type": "stream",
     "text": [
      "Number of items in the List2: 7\n"
     ]
    }
   ],
   "source": [
    "lists2 = [10,20,14,55,43,87,76]\n",
    "print(\"Number of items in the List2:\", len(lists2))"
   ]
  },
  {
   "cell_type": "code",
   "execution_count": null,
   "id": "bc9e0742-4e2d-49fb-a001-287393bdecd4",
   "metadata": {},
   "outputs": [],
   "source": [
    "#Print Statement"
   ]
  },
  {
   "cell_type": "code",
   "execution_count": 22,
   "id": "373a00ca-e6b0-4b0b-9115-c392e259d994",
   "metadata": {},
   "outputs": [
    {
     "name": "stdout",
     "output_type": "stream",
     "text": [
      "-Your Name-\n",
      "-Your Age-\n",
      "-Your Profession-\n"
     ]
    }
   ],
   "source": [
    "print('-Your Name-')\n",
    "print('-Your Age-')\n",
    "print('-Your Profession-')"
   ]
  },
  {
   "cell_type": "code",
   "execution_count": null,
   "id": "61978e03-a7d7-4c24-9832-245db708d05a",
   "metadata": {},
   "outputs": [],
   "source": [
    "#Tuple"
   ]
  },
  {
   "cell_type": "code",
   "execution_count": 23,
   "id": "f6ca0735-020b-48cd-bff3-d32c3f455db4",
   "metadata": {},
   "outputs": [
    {
     "name": "stdout",
     "output_type": "stream",
     "text": [
      "(1, 'Welcome', 2, 'Hope')\n"
     ]
    }
   ],
   "source": [
    "mytuple = (1,'Welcome',2,'Hope')\n",
    "print(mytuple)"
   ]
  },
  {
   "cell_type": "code",
   "execution_count": null,
   "id": "ac124649-1689-441d-8d45-73171521c085",
   "metadata": {},
   "outputs": [],
   "source": [
    "# Tuple concatenation"
   ]
  },
  {
   "cell_type": "code",
   "execution_count": 6,
   "id": "433bdb59-d9c4-46c4-ae44-5fdc36eb9b93",
   "metadata": {},
   "outputs": [
    {
     "name": "stdout",
     "output_type": "stream",
     "text": [
      "((0, 1, 2, 3), ('Python', 'Hope'))\n"
     ]
    }
   ],
   "source": [
    "tuple1 = (0,1,2,3)\n",
    "tuple2 = ('Python', 'Hope')\n",
    "resTuple = (tuple1, tuple2)\n",
    "print(resTuple)"
   ]
  },
  {
   "cell_type": "code",
   "execution_count": null,
   "id": "808dce05-3634-4f9a-b315-4597515956ca",
   "metadata": {},
   "outputs": [],
   "source": [
    "# print Odd number in the list"
   ]
  },
  {
   "cell_type": "code",
   "execution_count": 29,
   "id": "ec831c63-7136-44cf-825d-b752b57ffd13",
   "metadata": {},
   "outputs": [
    {
     "name": "stdout",
     "output_type": "stream",
     "text": [
      "19 is odd\n",
      "25 is odd\n",
      "1 is odd\n"
     ]
    }
   ],
   "source": [
    "numlists = [20,10,16,19,25,1,276,188]\n",
    "for num in numlists:\n",
    "    if(num%2!=0):\n",
    "        print(num, 'is odd')     "
   ]
  },
  {
   "cell_type": "code",
   "execution_count": null,
   "id": "49860e79-be6b-4019-b0e3-514ab9258dbd",
   "metadata": {},
   "outputs": [],
   "source": [
    "# Print Even number in the list"
   ]
  },
  {
   "cell_type": "code",
   "execution_count": null,
   "id": "bee6ff4e-75cf-4f94-bd49-965c076f6186",
   "metadata": {},
   "outputs": [],
   "source": [
    "#Assignment 3"
   ]
  },
  {
   "cell_type": "code",
   "execution_count": null,
   "id": "1a4b2b1d-2912-4d78-a369-3d63fea39ed6",
   "metadata": {},
   "outputs": [],
   "source": [
    "# print 'CORRECT' if i == 10"
   ]
  },
  {
   "cell_type": "code",
   "execution_count": 27,
   "id": "cfe06524-539b-4525-86dc-1608cab892f9",
   "metadata": {},
   "outputs": [
    {
     "name": "stdin",
     "output_type": "stream",
     "text": [
      "Value:  10\n"
     ]
    },
    {
     "name": "stdout",
     "output_type": "stream",
     "text": [
      "Correct\n"
     ]
    }
   ],
   "source": [
    "value = int(input('Value: '))\n",
    "if(value == 10):\n",
    "    print('Correct')\n",
    "        "
   ]
  },
  {
   "cell_type": "code",
   "execution_count": null,
   "id": "aa6149e9-65ca-4df9-97c8-cce2f405a6a5",
   "metadata": {},
   "outputs": [],
   "source": [
    "# Check the Password, using if and else"
   ]
  },
  {
   "cell_type": "code",
   "execution_count": 11,
   "id": "26f3813e-ba8b-4577-894a-9cb5a50bbae9",
   "metadata": {},
   "outputs": [
    {
     "name": "stdin",
     "output_type": "stream",
     "text": [
      "Enter the password:  Hope@123\n"
     ]
    },
    {
     "name": "stdout",
     "output_type": "stream",
     "text": [
      "Your password is correct\n"
     ]
    }
   ],
   "source": [
    "password = input('Enter the password: ')\n",
    "if(password == 'Hope@123'):\n",
    "    print('Your password is correct')\n",
    "else:\n",
    "    print('Your password is incorrect')"
   ]
  },
  {
   "cell_type": "code",
   "execution_count": null,
   "id": "23001459-065f-4767-924c-c05901dd28e3",
   "metadata": {},
   "outputs": [],
   "source": [
    "# Catagory the people by their age like children, Adult, citizen and senior citizen"
   ]
  },
  {
   "cell_type": "code",
   "execution_count": 13,
   "id": "14ae84b9-1fc5-4f03-8727-48b844d4dfe1",
   "metadata": {},
   "outputs": [
    {
     "name": "stdin",
     "output_type": "stream",
     "text": [
      "age:  20\n"
     ]
    },
    {
     "name": "stdout",
     "output_type": "stream",
     "text": [
      "Adult\n"
     ]
    }
   ],
   "source": [
    "userage = int(input(\"age: \"))\n",
    "if(userage<18):\n",
    "    print(\"Children\")\n",
    "elif(userage<35):\n",
    "    print(\"Adult\")\n",
    "elif(userage<59):\n",
    "    print(\"Citizen\")\n",
    "else:\n",
    "    print(\"senior citizen\")"
   ]
  },
  {
   "cell_type": "code",
   "execution_count": null,
   "id": "9488aa0e-b62c-49f2-aa0d-df1a6f0856a1",
   "metadata": {},
   "outputs": [],
   "source": [
    "#Find the give number is positive or negative"
   ]
  },
  {
   "cell_type": "code",
   "execution_count": 16,
   "id": "b54d031c-14f6-4ba5-8e7a-72840458602f",
   "metadata": {},
   "outputs": [
    {
     "name": "stdin",
     "output_type": "stream",
     "text": [
      "Enter any number:  1\n"
     ]
    },
    {
     "name": "stdout",
     "output_type": "stream",
     "text": [
      "No is positive\n"
     ]
    }
   ],
   "source": [
    "num = int(input('Enter any number: '))\n",
    "if(num<0):\n",
    "    print('No is negative')\n",
    "else:\n",
    "    print('No is positive')"
   ]
  },
  {
   "cell_type": "code",
   "execution_count": null,
   "id": "3721f5d2-cc54-4821-9418-73578d16e29f",
   "metadata": {},
   "outputs": [],
   "source": [
    "#Wheather the give number is divisible by 5"
   ]
  },
  {
   "cell_type": "code",
   "execution_count": 21,
   "id": "589518c8-c374-499a-a5b7-edfac185039b",
   "metadata": {},
   "outputs": [
    {
     "name": "stdin",
     "output_type": "stream",
     "text": [
      "Enter a number to check:  22\n"
     ]
    },
    {
     "name": "stdout",
     "output_type": "stream",
     "text": [
      "Number is not divisible by 5\n"
     ]
    }
   ],
   "source": [
    "number = int(input('Enter a number to check: '))\n",
    "if(number%5==0):\n",
    "    print('Number is divisible by 5')\n",
    "else:\n",
    "    print('Number is not divisible by 5')"
   ]
  },
  {
   "cell_type": "code",
   "execution_count": null,
   "id": "63c8e485-d1cd-4692-9cf5-be14bc940612",
   "metadata": {},
   "outputs": [],
   "source": []
  }
 ],
 "metadata": {
  "kernelspec": {
   "display_name": "Python 3 (ipykernel)",
   "language": "python",
   "name": "python3"
  },
  "language_info": {
   "codemirror_mode": {
    "name": "ipython",
    "version": 3
   },
   "file_extension": ".py",
   "mimetype": "text/x-python",
   "name": "python",
   "nbconvert_exporter": "python",
   "pygments_lexer": "ipython3",
   "version": "3.12.4"
  }
 },
 "nbformat": 4,
 "nbformat_minor": 5
}
