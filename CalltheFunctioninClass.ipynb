{
 "cells": [
  {
   "cell_type": "code",
   "execution_count": 6,
   "id": "7efffa77-16e5-4f2f-a4a7-afd8f1f33a54",
   "metadata": {},
   "outputs": [],
   "source": [
    "# Import all function from file\n",
    "from filename import classname\n",
    "from MultiFunctionClassAssignment import MultipleFunctionsClassAssignment"
   ]
  },
  {
   "cell_type": "code",
   "execution_count": null,
   "id": "5a962add-2161-4340-92ef-09d7fd00d4ec",
   "metadata": {},
   "outputs": [],
   "source": [
    "#Print subfield in AI"
   ]
  },
  {
   "cell_type": "code",
   "execution_count": 4,
   "id": "24eab2c8-2f27-4321-927e-07455243658a",
   "metadata": {},
   "outputs": [
    {
     "name": "stdout",
     "output_type": "stream",
     "text": [
      "Sub Fields in AI are:\n",
      "Machine Learning\n",
      "Neural Neteworks\n",
      "Robatics\n",
      "Speech Processing\n",
      "Natural Language Processing\n"
     ]
    }
   ],
   "source": [
    "MultipleFunctionsClassAssignment.subfieldinAI()"
   ]
  },
  {
   "cell_type": "code",
   "execution_count": null,
   "id": "8b180fac-29df-449f-91cc-986371972bf2",
   "metadata": {},
   "outputs": [],
   "source": [
    "# Find Odd or Even"
   ]
  },
  {
   "cell_type": "code",
   "execution_count": 9,
   "id": "b4284f4c-9a0e-4d4d-b16d-cb9a30958b73",
   "metadata": {},
   "outputs": [
    {
     "name": "stdin",
     "output_type": "stream",
     "text": [
      "Enter the number:  52452\n"
     ]
    },
    {
     "name": "stdout",
     "output_type": "stream",
     "text": [
      "52452 is Even\n"
     ]
    },
    {
     "data": {
      "text/plain": [
       "'Even number'"
      ]
     },
     "execution_count": 9,
     "metadata": {},
     "output_type": "execute_result"
    }
   ],
   "source": [
    "MultipleFunctionsClassAssignment.oddEven()"
   ]
  },
  {
   "cell_type": "code",
   "execution_count": null,
   "id": "29e68684-981a-4e18-8465-4d4ad1381eb7",
   "metadata": {},
   "outputs": [],
   "source": [
    "#Marriage ELigible"
   ]
  },
  {
   "cell_type": "code",
   "execution_count": 10,
   "id": "f50e8e40-1175-4b47-91ed-a8c6e2e9eb5d",
   "metadata": {},
   "outputs": [
    {
     "name": "stdin",
     "output_type": "stream",
     "text": [
      "Your Gender Male\n",
      "Your age 20\n"
     ]
    },
    {
     "name": "stdout",
     "output_type": "stream",
     "text": [
      "Not eligible\n"
     ]
    },
    {
     "data": {
      "text/plain": [
       "'Not eligible'"
      ]
     },
     "execution_count": 10,
     "metadata": {},
     "output_type": "execute_result"
    }
   ],
   "source": [
    "MultipleFunctionsClassAssignment.marriageEligible()"
   ]
  },
  {
   "cell_type": "code",
   "execution_count": null,
   "id": "64e9320d-3cb2-40f6-b479-409138e3ce91",
   "metadata": {},
   "outputs": [],
   "source": [
    "#Find Percentage"
   ]
  },
  {
   "cell_type": "code",
   "execution_count": 12,
   "id": "803d2f59-0e56-4685-a764-56d0f4fc8d65",
   "metadata": {},
   "outputs": [
    {
     "name": "stdin",
     "output_type": "stream",
     "text": [
      "Subject1 98\n",
      "Subject2 87\n",
      "Subject3 95\n",
      "Subject4 95\n",
      "Subject5 93\n"
     ]
    },
    {
     "name": "stdout",
     "output_type": "stream",
     "text": [
      "Total: 468\n",
      "Percentage: 93.6\n"
     ]
    }
   ],
   "source": [
    "MultipleFunctionsClassAssignment.percentage()"
   ]
  },
  {
   "cell_type": "code",
   "execution_count": null,
   "id": "247dad7a-daf1-4053-beb4-04b8ce14354d",
   "metadata": {},
   "outputs": [],
   "source": [
    "#Find Formula result"
   ]
  },
  {
   "cell_type": "code",
   "execution_count": 13,
   "id": "f62de12d-2d3f-4276-a68a-b6db8ccdce60",
   "metadata": {},
   "outputs": [
    {
     "name": "stdin",
     "output_type": "stream",
     "text": [
      "Height 32\n",
      "Breadth 34\n"
     ]
    },
    {
     "name": "stdout",
     "output_type": "stream",
     "text": [
      "Area of Triangle 544.0\n"
     ]
    },
    {
     "name": "stdin",
     "output_type": "stream",
     "text": [
      "Height1 2\n",
      "Height1 4\n",
      "Breadth2 4\n"
     ]
    },
    {
     "name": "stdout",
     "output_type": "stream",
     "text": [
      "Perimeter of Triangle: 10\n"
     ]
    }
   ],
   "source": [
    "MultipleFunctionsClassAssignment.triangle()"
   ]
  },
  {
   "cell_type": "code",
   "execution_count": null,
   "id": "a40d2170-2772-497d-a8ca-e20f985c3f01",
   "metadata": {},
   "outputs": [],
   "source": []
  }
 ],
 "metadata": {
  "kernelspec": {
   "display_name": "Python 3 (ipykernel)",
   "language": "python",
   "name": "python3"
  },
  "language_info": {
   "codemirror_mode": {
    "name": "ipython",
    "version": 3
   },
   "file_extension": ".py",
   "mimetype": "text/x-python",
   "name": "python",
   "nbconvert_exporter": "python",
   "pygments_lexer": "ipython3",
   "version": "3.12.4"
  }
 },
 "nbformat": 4,
 "nbformat_minor": 5
}
