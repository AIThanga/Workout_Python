{
 "cells": [
  {
   "cell_type": "code",
   "execution_count": null,
   "id": "485c0976-095c-4244-bf0d-44224df59bfc",
   "metadata": {},
   "outputs": [],
   "source": [
    "#Age category using Function without return statement"
   ]
  },
  {
   "cell_type": "code",
   "execution_count": 6,
   "id": "1c21926e-3219-4779-bcd2-d83b6ac30056",
   "metadata": {},
   "outputs": [
    {
     "name": "stdout",
     "output_type": "stream",
     "text": [
      "23 Adult\n",
      "45 Citizen\n",
      "17 Children\n",
      "89 senior citizen\n"
     ]
    }
   ],
   "source": [
    "ageLists=[23,45,17,89]\n",
    "def AgeCategory():\n",
    "    for age in ageLists:\n",
    "        if(age<18):\n",
    "            print(age,\"Children\")\n",
    "        elif(age<35):\n",
    "            print(age,\"Adult\")\n",
    "        elif(age<59):\n",
    "            print(age,\"Citizen\")\n",
    "        else:\n",
    "            print(age,\"senior citizen\")\n",
    "\n",
    "AgeCategory()\n",
    "    "
   ]
  },
  {
   "cell_type": "code",
   "execution_count": null,
   "id": "7cbc83f2-0156-4733-87e4-0b977dd4fd52",
   "metadata": {},
   "outputs": [],
   "source": [
    "#with return statement, If you want return you need variable 'Category'"
   ]
  },
  {
   "cell_type": "code",
   "execution_count": 10,
   "id": "2718ed7f-f6c0-48c0-95c7-b96cca6f635a",
   "metadata": {
    "scrolled": true
   },
   "outputs": [
    {
     "name": "stdin",
     "output_type": "stream",
     "text": [
      "Enter the age 55\n"
     ]
    },
    {
     "name": "stdout",
     "output_type": "stream",
     "text": [
      "The age category is Citizen\n"
     ]
    }
   ],
   "source": [
    "def AgeCategory():\n",
    "    age = int(input(\"Enter the age\")) \n",
    "    if(age<18):\n",
    "       Category = 'Children'\n",
    "    elif(age<35):\n",
    "       Category = 'Adult'\n",
    "    elif(age<59):\n",
    "       Category ='Citizen'\n",
    "    else:\n",
    "       Category ='senior citizen'\n",
    "    return Category    \n",
    "#Assign the function return value to another variable like function call\n",
    "res = AgeCategory()\n",
    "print('The age category is', res)"
   ]
  },
  {
   "cell_type": "code",
   "execution_count": null,
   "id": "1bfdbfec-cc5e-40de-8ab1-263c4a249eb8",
   "metadata": {},
   "outputs": [],
   "source": [
    "# Function 2"
   ]
  },
  {
   "cell_type": "code",
   "execution_count": 16,
   "id": "52dbed7e-8a9d-409c-a3f2-ef65aa0ca05f",
   "metadata": {},
   "outputs": [
    {
     "name": "stdin",
     "output_type": "stream",
     "text": [
      "Enter the number 5\n"
     ]
    },
    {
     "name": "stdout",
     "output_type": "stream",
     "text": [
      "5  is Odd\n",
      "Woe\n"
     ]
    }
   ],
   "source": [
    "def oddEven():\n",
    "    num = int(input(\"Enter the number\")) \n",
    "    if(num%2==0):\n",
    "        print(num,\"is Even\")\n",
    "        message = \"Even number\"\n",
    "    else:\n",
    "        print(num,\" is Odd\")\n",
    "        message = \"Odd number\"\n",
    "    return message\n",
    "# Call the function\n",
    "message = oddEven()\n",
    "# Action, return value will input of the another fn may be\n",
    "if(message == 'Even number'):\n",
    "    print('Great')\n",
    "else:\n",
    "    print('Woe')"
   ]
  },
  {
   "cell_type": "code",
   "execution_count": 19,
   "id": "4694a1d8-1f45-4a20-9abf-a87c91791d4a",
   "metadata": {},
   "outputs": [],
   "source": [
    "def bmi():\n",
    "    bmi = int(input(\"Enter the BMI Index:\"))\n",
    "    if(bmi < 18.5):\n",
    "        print(\"UnderWeight\")\n",
    "        message ='UnderWeight'\n",
    "    elif(bmi < 24.9):\n",
    "        print(\"NormalRange\")\n",
    "        message ='NormalRange'\n",
    "    elif(bmi < 29.9):\n",
    "        print(\"Overweight\")\n",
    "        message ='Overweight'\n",
    "    else:\n",
    "        print(\"Very Overweight\")\n",
    "        message='Very Overweight'\n",
    "        return message\n"
   ]
  },
  {
   "cell_type": "code",
   "execution_count": 20,
   "id": "d8c1e033-6ce2-4353-b1ba-24a09e8b872b",
   "metadata": {},
   "outputs": [
    {
     "name": "stdin",
     "output_type": "stream",
     "text": [
      "Enter the BMI Index: 20\n"
     ]
    },
    {
     "name": "stdout",
     "output_type": "stream",
     "text": [
      "NormalRange\n"
     ]
    }
   ],
   "source": [
    "resBMI =bmi()"
   ]
  },
  {
   "cell_type": "code",
   "execution_count": null,
   "id": "02f0f353-653f-4675-9d61-619eb5ea64e4",
   "metadata": {},
   "outputs": [],
   "source": [
    "#Paramaterised/ Arugument pass Function"
   ]
  },
  {
   "cell_type": "code",
   "execution_count": 24,
   "id": "abb1a3d5-93d4-4226-a546-4112b48429d0",
   "metadata": {},
   "outputs": [
    {
     "data": {
      "text/plain": [
       "25"
      ]
     },
     "execution_count": 24,
     "metadata": {},
     "output_type": "execute_result"
    }
   ],
   "source": [
    "def addition(a,b):\n",
    "    add = a + b\n",
    "    return add\n",
    "addition(10,15)"
   ]
  },
  {
   "cell_type": "code",
   "execution_count": null,
   "id": "00fb93b9-140e-4a89-b554-1a30fc9f24e8",
   "metadata": {},
   "outputs": [],
   "source": [
    "# Class with FUnction"
   ]
  },
  {
   "cell_type": "code",
   "execution_count": 11,
   "id": "be557084-9991-4977-9a92-97cc71c66284",
   "metadata": {},
   "outputs": [
    {
     "name": "stdin",
     "output_type": "stream",
     "text": [
      "Enter the number:  25\n"
     ]
    },
    {
     "name": "stdout",
     "output_type": "stream",
     "text": [
      "25 is Odd\n",
      "Odd/Even result: Odd number\n"
     ]
    },
    {
     "name": "stdin",
     "output_type": "stream",
     "text": [
      "Enter the BMI Index:  25\n"
     ]
    },
    {
     "name": "stdout",
     "output_type": "stream",
     "text": [
      "Overweight\n",
      "BMI result: Overweight\n"
     ]
    }
   ],
   "source": [
    "class MultiFunction:\n",
    "    def oddEven():\n",
    "        num = int(input(\"Enter the number: \")) \n",
    "        if num % 2 == 0:\n",
    "            print(num, \"is Even\")\n",
    "            message = \"Even number\"\n",
    "        else:\n",
    "            print(num, \"is Odd\")\n",
    "            message = \"Odd number\"\n",
    "        return message\n",
    "    \n",
    "    def bmi():\n",
    "        bmi_value = float(input(\"Enter the BMI Index: \"))\n",
    "        if bmi_value < 18.5:\n",
    "            print(\"UnderWeight\")\n",
    "            message1 = 'UnderWeight'\n",
    "        elif bmi_value < 24.9:\n",
    "            print(\"Normal Range\")\n",
    "            message1 = 'Normal Range'\n",
    "        elif bmi_value < 29.9:\n",
    "            print(\"Overweight\")\n",
    "            message1 = 'Overweight'\n",
    "        else:\n",
    "            print(\"Very Overweight\")\n",
    "            message1 = 'Very Overweight'\n",
    "        return message1\n",
    "\n",
    "# Call the methods and get results\n",
    "odd_even_result = MultiFunction.oddEven()\n",
    "print(\"Odd/Even result:\", odd_even_result)\n",
    "\n",
    "bmi_result = MultiFunction.bmi()\n",
    "print(\"BMI result:\", bmi_result)\n"
   ]
  },
  {
   "cell_type": "code",
   "execution_count": null,
   "id": "735cbd4d-0e6d-48c2-a248-d61e29759fb5",
   "metadata": {},
   "outputs": [],
   "source": []
  },
  {
   "cell_type": "code",
   "execution_count": null,
   "id": "8611163a-a07a-4f48-8084-aad273c88113",
   "metadata": {},
   "outputs": [],
   "source": []
  },
  {
   "cell_type": "code",
   "execution_count": null,
   "id": "3f6b9081-19d8-493c-8b73-7360a88d7ac5",
   "metadata": {},
   "outputs": [],
   "source": []
  }
 ],
 "metadata": {
  "kernelspec": {
   "display_name": "Python 3 (ipykernel)",
   "language": "python",
   "name": "python3"
  },
  "language_info": {
   "codemirror_mode": {
    "name": "ipython",
    "version": 3
   },
   "file_extension": ".py",
   "mimetype": "text/x-python",
   "name": "python",
   "nbconvert_exporter": "python",
   "pygments_lexer": "ipython3",
   "version": "3.12.4"
  }
 },
 "nbformat": 4,
 "nbformat_minor": 5
}
