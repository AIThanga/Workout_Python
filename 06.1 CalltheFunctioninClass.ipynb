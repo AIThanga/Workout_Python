{
 "cells": [
  {
   "cell_type": "code",
   "execution_count": 5,
   "id": "3bf06005-a249-4640-a3ae-8506931b4f60",
   "metadata": {},
   "outputs": [],
   "source": [
    "# from filem import classname\n",
    "from MultiFunctionLibrary import MultiMethod"
   ]
  },
  {
   "cell_type": "code",
   "execution_count": 6,
   "id": "042e1a71-9471-45c2-a51b-4b07234ff762",
   "metadata": {},
   "outputs": [
    {
     "name": "stdin",
     "output_type": "stream",
     "text": [
      "Enter the BMI Index:  25\n"
     ]
    },
    {
     "name": "stdout",
     "output_type": "stream",
     "text": [
      "Overweight\n"
     ]
    },
    {
     "data": {
      "text/plain": [
       "'Overweight'"
      ]
     },
     "execution_count": 6,
     "metadata": {},
     "output_type": "execute_result"
    }
   ],
   "source": [
    "MultiMethod.bmi()"
   ]
  },
  {
   "cell_type": "code",
   "execution_count": null,
   "id": "71ab8a64-e57e-495c-b3a3-4e4198b33917",
   "metadata": {},
   "outputs": [],
   "source": []
  }
 ],
 "metadata": {
  "kernelspec": {
   "display_name": "Python 3 (ipykernel)",
   "language": "python",
   "name": "python3"
  },
  "language_info": {
   "codemirror_mode": {
    "name": "ipython",
    "version": 3
   },
   "file_extension": ".py",
   "mimetype": "text/x-python",
   "name": "python",
   "nbconvert_exporter": "python",
   "pygments_lexer": "ipython3",
   "version": "3.12.4"
  }
 },
 "nbformat": 4,
 "nbformat_minor": 5
}
